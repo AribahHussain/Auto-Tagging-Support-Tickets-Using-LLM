{
  "nbformat": 4,
  "nbformat_minor": 0,
  "metadata": {
    "colab": {
      "provenance": [],
      "gpuType": "T4"
    },
    "kernelspec": {
      "name": "python3",
      "display_name": "Python 3"
    },
    "language_info": {
      "name": "python"
    },
    "accelerator": "GPU",
    "widgets": {
      "application/vnd.jupyter.widget-state+json": {
        "ea3a636df205462bbd0bf5da57e0ac08": {
          "model_module": "@jupyter-widgets/controls",
          "model_name": "HBoxModel",
          "model_module_version": "1.5.0",
          "state": {
            "_dom_classes": [],
            "_model_module": "@jupyter-widgets/controls",
            "_model_module_version": "1.5.0",
            "_model_name": "HBoxModel",
            "_view_count": null,
            "_view_module": "@jupyter-widgets/controls",
            "_view_module_version": "1.5.0",
            "_view_name": "HBoxView",
            "box_style": "",
            "children": [
              "IPY_MODEL_1f116b23e6494b7fa6986c1771d827a5",
              "IPY_MODEL_cd7c1d3a5e91418a94b3fdfa0ea723ab",
              "IPY_MODEL_fa4764ecd60d4a0da8fd330f3fcb53e5"
            ],
            "layout": "IPY_MODEL_21c331588002428bbe5c5e08decd35d9"
          }
        },
        "1f116b23e6494b7fa6986c1771d827a5": {
          "model_module": "@jupyter-widgets/controls",
          "model_name": "HTMLModel",
          "model_module_version": "1.5.0",
          "state": {
            "_dom_classes": [],
            "_model_module": "@jupyter-widgets/controls",
            "_model_module_version": "1.5.0",
            "_model_name": "HTMLModel",
            "_view_count": null,
            "_view_module": "@jupyter-widgets/controls",
            "_view_module_version": "1.5.0",
            "_view_name": "HTMLView",
            "description": "",
            "description_tooltip": null,
            "layout": "IPY_MODEL_52341b97a1f140b3ad9958292ef58fe5",
            "placeholder": "​",
            "style": "IPY_MODEL_d4e4c455a56c40729c97b855a61ce205",
            "value": "config.json: 100%"
          }
        },
        "cd7c1d3a5e91418a94b3fdfa0ea723ab": {
          "model_module": "@jupyter-widgets/controls",
          "model_name": "FloatProgressModel",
          "model_module_version": "1.5.0",
          "state": {
            "_dom_classes": [],
            "_model_module": "@jupyter-widgets/controls",
            "_model_module_version": "1.5.0",
            "_model_name": "FloatProgressModel",
            "_view_count": null,
            "_view_module": "@jupyter-widgets/controls",
            "_view_module_version": "1.5.0",
            "_view_name": "ProgressView",
            "bar_style": "success",
            "description": "",
            "description_tooltip": null,
            "layout": "IPY_MODEL_cb5f39767423438794b2181bb1250204",
            "max": 570,
            "min": 0,
            "orientation": "horizontal",
            "style": "IPY_MODEL_e9564e149a5943f693beb684e852b727",
            "value": 570
          }
        },
        "fa4764ecd60d4a0da8fd330f3fcb53e5": {
          "model_module": "@jupyter-widgets/controls",
          "model_name": "HTMLModel",
          "model_module_version": "1.5.0",
          "state": {
            "_dom_classes": [],
            "_model_module": "@jupyter-widgets/controls",
            "_model_module_version": "1.5.0",
            "_model_name": "HTMLModel",
            "_view_count": null,
            "_view_module": "@jupyter-widgets/controls",
            "_view_module_version": "1.5.0",
            "_view_name": "HTMLView",
            "description": "",
            "description_tooltip": null,
            "layout": "IPY_MODEL_22eb31fe6c104bfdb17de228d5445926",
            "placeholder": "​",
            "style": "IPY_MODEL_6ac75f11bbe54d3782e30139d9a6eebe",
            "value": " 570/570 [00:00&lt;00:00, 59.3kB/s]"
          }
        },
        "21c331588002428bbe5c5e08decd35d9": {
          "model_module": "@jupyter-widgets/base",
          "model_name": "LayoutModel",
          "model_module_version": "1.2.0",
          "state": {
            "_model_module": "@jupyter-widgets/base",
            "_model_module_version": "1.2.0",
            "_model_name": "LayoutModel",
            "_view_count": null,
            "_view_module": "@jupyter-widgets/base",
            "_view_module_version": "1.2.0",
            "_view_name": "LayoutView",
            "align_content": null,
            "align_items": null,
            "align_self": null,
            "border": null,
            "bottom": null,
            "display": null,
            "flex": null,
            "flex_flow": null,
            "grid_area": null,
            "grid_auto_columns": null,
            "grid_auto_flow": null,
            "grid_auto_rows": null,
            "grid_column": null,
            "grid_gap": null,
            "grid_row": null,
            "grid_template_areas": null,
            "grid_template_columns": null,
            "grid_template_rows": null,
            "height": null,
            "justify_content": null,
            "justify_items": null,
            "left": null,
            "margin": null,
            "max_height": null,
            "max_width": null,
            "min_height": null,
            "min_width": null,
            "object_fit": null,
            "object_position": null,
            "order": null,
            "overflow": null,
            "overflow_x": null,
            "overflow_y": null,
            "padding": null,
            "right": null,
            "top": null,
            "visibility": null,
            "width": null
          }
        },
        "52341b97a1f140b3ad9958292ef58fe5": {
          "model_module": "@jupyter-widgets/base",
          "model_name": "LayoutModel",
          "model_module_version": "1.2.0",
          "state": {
            "_model_module": "@jupyter-widgets/base",
            "_model_module_version": "1.2.0",
            "_model_name": "LayoutModel",
            "_view_count": null,
            "_view_module": "@jupyter-widgets/base",
            "_view_module_version": "1.2.0",
            "_view_name": "LayoutView",
            "align_content": null,
            "align_items": null,
            "align_self": null,
            "border": null,
            "bottom": null,
            "display": null,
            "flex": null,
            "flex_flow": null,
            "grid_area": null,
            "grid_auto_columns": null,
            "grid_auto_flow": null,
            "grid_auto_rows": null,
            "grid_column": null,
            "grid_gap": null,
            "grid_row": null,
            "grid_template_areas": null,
            "grid_template_columns": null,
            "grid_template_rows": null,
            "height": null,
            "justify_content": null,
            "justify_items": null,
            "left": null,
            "margin": null,
            "max_height": null,
            "max_width": null,
            "min_height": null,
            "min_width": null,
            "object_fit": null,
            "object_position": null,
            "order": null,
            "overflow": null,
            "overflow_x": null,
            "overflow_y": null,
            "padding": null,
            "right": null,
            "top": null,
            "visibility": null,
            "width": null
          }
        },
        "d4e4c455a56c40729c97b855a61ce205": {
          "model_module": "@jupyter-widgets/controls",
          "model_name": "DescriptionStyleModel",
          "model_module_version": "1.5.0",
          "state": {
            "_model_module": "@jupyter-widgets/controls",
            "_model_module_version": "1.5.0",
            "_model_name": "DescriptionStyleModel",
            "_view_count": null,
            "_view_module": "@jupyter-widgets/base",
            "_view_module_version": "1.2.0",
            "_view_name": "StyleView",
            "description_width": ""
          }
        },
        "cb5f39767423438794b2181bb1250204": {
          "model_module": "@jupyter-widgets/base",
          "model_name": "LayoutModel",
          "model_module_version": "1.2.0",
          "state": {
            "_model_module": "@jupyter-widgets/base",
            "_model_module_version": "1.2.0",
            "_model_name": "LayoutModel",
            "_view_count": null,
            "_view_module": "@jupyter-widgets/base",
            "_view_module_version": "1.2.0",
            "_view_name": "LayoutView",
            "align_content": null,
            "align_items": null,
            "align_self": null,
            "border": null,
            "bottom": null,
            "display": null,
            "flex": null,
            "flex_flow": null,
            "grid_area": null,
            "grid_auto_columns": null,
            "grid_auto_flow": null,
            "grid_auto_rows": null,
            "grid_column": null,
            "grid_gap": null,
            "grid_row": null,
            "grid_template_areas": null,
            "grid_template_columns": null,
            "grid_template_rows": null,
            "height": null,
            "justify_content": null,
            "justify_items": null,
            "left": null,
            "margin": null,
            "max_height": null,
            "max_width": null,
            "min_height": null,
            "min_width": null,
            "object_fit": null,
            "object_position": null,
            "order": null,
            "overflow": null,
            "overflow_x": null,
            "overflow_y": null,
            "padding": null,
            "right": null,
            "top": null,
            "visibility": null,
            "width": null
          }
        },
        "e9564e149a5943f693beb684e852b727": {
          "model_module": "@jupyter-widgets/controls",
          "model_name": "ProgressStyleModel",
          "model_module_version": "1.5.0",
          "state": {
            "_model_module": "@jupyter-widgets/controls",
            "_model_module_version": "1.5.0",
            "_model_name": "ProgressStyleModel",
            "_view_count": null,
            "_view_module": "@jupyter-widgets/base",
            "_view_module_version": "1.2.0",
            "_view_name": "StyleView",
            "bar_color": null,
            "description_width": ""
          }
        },
        "22eb31fe6c104bfdb17de228d5445926": {
          "model_module": "@jupyter-widgets/base",
          "model_name": "LayoutModel",
          "model_module_version": "1.2.0",
          "state": {
            "_model_module": "@jupyter-widgets/base",
            "_model_module_version": "1.2.0",
            "_model_name": "LayoutModel",
            "_view_count": null,
            "_view_module": "@jupyter-widgets/base",
            "_view_module_version": "1.2.0",
            "_view_name": "LayoutView",
            "align_content": null,
            "align_items": null,
            "align_self": null,
            "border": null,
            "bottom": null,
            "display": null,
            "flex": null,
            "flex_flow": null,
            "grid_area": null,
            "grid_auto_columns": null,
            "grid_auto_flow": null,
            "grid_auto_rows": null,
            "grid_column": null,
            "grid_gap": null,
            "grid_row": null,
            "grid_template_areas": null,
            "grid_template_columns": null,
            "grid_template_rows": null,
            "height": null,
            "justify_content": null,
            "justify_items": null,
            "left": null,
            "margin": null,
            "max_height": null,
            "max_width": null,
            "min_height": null,
            "min_width": null,
            "object_fit": null,
            "object_position": null,
            "order": null,
            "overflow": null,
            "overflow_x": null,
            "overflow_y": null,
            "padding": null,
            "right": null,
            "top": null,
            "visibility": null,
            "width": null
          }
        },
        "6ac75f11bbe54d3782e30139d9a6eebe": {
          "model_module": "@jupyter-widgets/controls",
          "model_name": "DescriptionStyleModel",
          "model_module_version": "1.5.0",
          "state": {
            "_model_module": "@jupyter-widgets/controls",
            "_model_module_version": "1.5.0",
            "_model_name": "DescriptionStyleModel",
            "_view_count": null,
            "_view_module": "@jupyter-widgets/base",
            "_view_module_version": "1.2.0",
            "_view_name": "StyleView",
            "description_width": ""
          }
        },
        "3f2452b1436c4240bb73315aedd504e0": {
          "model_module": "@jupyter-widgets/controls",
          "model_name": "HBoxModel",
          "model_module_version": "1.5.0",
          "state": {
            "_dom_classes": [],
            "_model_module": "@jupyter-widgets/controls",
            "_model_module_version": "1.5.0",
            "_model_name": "HBoxModel",
            "_view_count": null,
            "_view_module": "@jupyter-widgets/controls",
            "_view_module_version": "1.5.0",
            "_view_name": "HBoxView",
            "box_style": "",
            "children": [
              "IPY_MODEL_b0ae2cacbe1040919c7af36730213bca",
              "IPY_MODEL_184c5ac5eef542bea7b406ff1207d492",
              "IPY_MODEL_6e1fcbbff9a741a784e192e455ac2e3d"
            ],
            "layout": "IPY_MODEL_e412d86e58e84f028467abf613664a57"
          }
        },
        "b0ae2cacbe1040919c7af36730213bca": {
          "model_module": "@jupyter-widgets/controls",
          "model_name": "HTMLModel",
          "model_module_version": "1.5.0",
          "state": {
            "_dom_classes": [],
            "_model_module": "@jupyter-widgets/controls",
            "_model_module_version": "1.5.0",
            "_model_name": "HTMLModel",
            "_view_count": null,
            "_view_module": "@jupyter-widgets/controls",
            "_view_module_version": "1.5.0",
            "_view_name": "HTMLView",
            "description": "",
            "description_tooltip": null,
            "layout": "IPY_MODEL_a83cd1f85103450ea839f50e0271bb30",
            "placeholder": "​",
            "style": "IPY_MODEL_68f9155ceba946a4905e80fa939fc369",
            "value": "model.safetensors: 100%"
          }
        },
        "184c5ac5eef542bea7b406ff1207d492": {
          "model_module": "@jupyter-widgets/controls",
          "model_name": "FloatProgressModel",
          "model_module_version": "1.5.0",
          "state": {
            "_dom_classes": [],
            "_model_module": "@jupyter-widgets/controls",
            "_model_module_version": "1.5.0",
            "_model_name": "FloatProgressModel",
            "_view_count": null,
            "_view_module": "@jupyter-widgets/controls",
            "_view_module_version": "1.5.0",
            "_view_name": "ProgressView",
            "bar_style": "success",
            "description": "",
            "description_tooltip": null,
            "layout": "IPY_MODEL_98ba2e2621444ac29e4199bf6a601e1e",
            "max": 440449768,
            "min": 0,
            "orientation": "horizontal",
            "style": "IPY_MODEL_0e1fc180d9f04f5b8cf8644f76b5c7bd",
            "value": 440449768
          }
        },
        "6e1fcbbff9a741a784e192e455ac2e3d": {
          "model_module": "@jupyter-widgets/controls",
          "model_name": "HTMLModel",
          "model_module_version": "1.5.0",
          "state": {
            "_dom_classes": [],
            "_model_module": "@jupyter-widgets/controls",
            "_model_module_version": "1.5.0",
            "_model_name": "HTMLModel",
            "_view_count": null,
            "_view_module": "@jupyter-widgets/controls",
            "_view_module_version": "1.5.0",
            "_view_name": "HTMLView",
            "description": "",
            "description_tooltip": null,
            "layout": "IPY_MODEL_3f8341952479465c865ab3c8656fe53b",
            "placeholder": "​",
            "style": "IPY_MODEL_8325e03301e4493c9ded17f2c3fc92c2",
            "value": " 440M/440M [00:05&lt;00:00, 82.9MB/s]"
          }
        },
        "e412d86e58e84f028467abf613664a57": {
          "model_module": "@jupyter-widgets/base",
          "model_name": "LayoutModel",
          "model_module_version": "1.2.0",
          "state": {
            "_model_module": "@jupyter-widgets/base",
            "_model_module_version": "1.2.0",
            "_model_name": "LayoutModel",
            "_view_count": null,
            "_view_module": "@jupyter-widgets/base",
            "_view_module_version": "1.2.0",
            "_view_name": "LayoutView",
            "align_content": null,
            "align_items": null,
            "align_self": null,
            "border": null,
            "bottom": null,
            "display": null,
            "flex": null,
            "flex_flow": null,
            "grid_area": null,
            "grid_auto_columns": null,
            "grid_auto_flow": null,
            "grid_auto_rows": null,
            "grid_column": null,
            "grid_gap": null,
            "grid_row": null,
            "grid_template_areas": null,
            "grid_template_columns": null,
            "grid_template_rows": null,
            "height": null,
            "justify_content": null,
            "justify_items": null,
            "left": null,
            "margin": null,
            "max_height": null,
            "max_width": null,
            "min_height": null,
            "min_width": null,
            "object_fit": null,
            "object_position": null,
            "order": null,
            "overflow": null,
            "overflow_x": null,
            "overflow_y": null,
            "padding": null,
            "right": null,
            "top": null,
            "visibility": null,
            "width": null
          }
        },
        "a83cd1f85103450ea839f50e0271bb30": {
          "model_module": "@jupyter-widgets/base",
          "model_name": "LayoutModel",
          "model_module_version": "1.2.0",
          "state": {
            "_model_module": "@jupyter-widgets/base",
            "_model_module_version": "1.2.0",
            "_model_name": "LayoutModel",
            "_view_count": null,
            "_view_module": "@jupyter-widgets/base",
            "_view_module_version": "1.2.0",
            "_view_name": "LayoutView",
            "align_content": null,
            "align_items": null,
            "align_self": null,
            "border": null,
            "bottom": null,
            "display": null,
            "flex": null,
            "flex_flow": null,
            "grid_area": null,
            "grid_auto_columns": null,
            "grid_auto_flow": null,
            "grid_auto_rows": null,
            "grid_column": null,
            "grid_gap": null,
            "grid_row": null,
            "grid_template_areas": null,
            "grid_template_columns": null,
            "grid_template_rows": null,
            "height": null,
            "justify_content": null,
            "justify_items": null,
            "left": null,
            "margin": null,
            "max_height": null,
            "max_width": null,
            "min_height": null,
            "min_width": null,
            "object_fit": null,
            "object_position": null,
            "order": null,
            "overflow": null,
            "overflow_x": null,
            "overflow_y": null,
            "padding": null,
            "right": null,
            "top": null,
            "visibility": null,
            "width": null
          }
        },
        "68f9155ceba946a4905e80fa939fc369": {
          "model_module": "@jupyter-widgets/controls",
          "model_name": "DescriptionStyleModel",
          "model_module_version": "1.5.0",
          "state": {
            "_model_module": "@jupyter-widgets/controls",
            "_model_module_version": "1.5.0",
            "_model_name": "DescriptionStyleModel",
            "_view_count": null,
            "_view_module": "@jupyter-widgets/base",
            "_view_module_version": "1.2.0",
            "_view_name": "StyleView",
            "description_width": ""
          }
        },
        "98ba2e2621444ac29e4199bf6a601e1e": {
          "model_module": "@jupyter-widgets/base",
          "model_name": "LayoutModel",
          "model_module_version": "1.2.0",
          "state": {
            "_model_module": "@jupyter-widgets/base",
            "_model_module_version": "1.2.0",
            "_model_name": "LayoutModel",
            "_view_count": null,
            "_view_module": "@jupyter-widgets/base",
            "_view_module_version": "1.2.0",
            "_view_name": "LayoutView",
            "align_content": null,
            "align_items": null,
            "align_self": null,
            "border": null,
            "bottom": null,
            "display": null,
            "flex": null,
            "flex_flow": null,
            "grid_area": null,
            "grid_auto_columns": null,
            "grid_auto_flow": null,
            "grid_auto_rows": null,
            "grid_column": null,
            "grid_gap": null,
            "grid_row": null,
            "grid_template_areas": null,
            "grid_template_columns": null,
            "grid_template_rows": null,
            "height": null,
            "justify_content": null,
            "justify_items": null,
            "left": null,
            "margin": null,
            "max_height": null,
            "max_width": null,
            "min_height": null,
            "min_width": null,
            "object_fit": null,
            "object_position": null,
            "order": null,
            "overflow": null,
            "overflow_x": null,
            "overflow_y": null,
            "padding": null,
            "right": null,
            "top": null,
            "visibility": null,
            "width": null
          }
        },
        "0e1fc180d9f04f5b8cf8644f76b5c7bd": {
          "model_module": "@jupyter-widgets/controls",
          "model_name": "ProgressStyleModel",
          "model_module_version": "1.5.0",
          "state": {
            "_model_module": "@jupyter-widgets/controls",
            "_model_module_version": "1.5.0",
            "_model_name": "ProgressStyleModel",
            "_view_count": null,
            "_view_module": "@jupyter-widgets/base",
            "_view_module_version": "1.2.0",
            "_view_name": "StyleView",
            "bar_color": null,
            "description_width": ""
          }
        },
        "3f8341952479465c865ab3c8656fe53b": {
          "model_module": "@jupyter-widgets/base",
          "model_name": "LayoutModel",
          "model_module_version": "1.2.0",
          "state": {
            "_model_module": "@jupyter-widgets/base",
            "_model_module_version": "1.2.0",
            "_model_name": "LayoutModel",
            "_view_count": null,
            "_view_module": "@jupyter-widgets/base",
            "_view_module_version": "1.2.0",
            "_view_name": "LayoutView",
            "align_content": null,
            "align_items": null,
            "align_self": null,
            "border": null,
            "bottom": null,
            "display": null,
            "flex": null,
            "flex_flow": null,
            "grid_area": null,
            "grid_auto_columns": null,
            "grid_auto_flow": null,
            "grid_auto_rows": null,
            "grid_column": null,
            "grid_gap": null,
            "grid_row": null,
            "grid_template_areas": null,
            "grid_template_columns": null,
            "grid_template_rows": null,
            "height": null,
            "justify_content": null,
            "justify_items": null,
            "left": null,
            "margin": null,
            "max_height": null,
            "max_width": null,
            "min_height": null,
            "min_width": null,
            "object_fit": null,
            "object_position": null,
            "order": null,
            "overflow": null,
            "overflow_x": null,
            "overflow_y": null,
            "padding": null,
            "right": null,
            "top": null,
            "visibility": null,
            "width": null
          }
        },
        "8325e03301e4493c9ded17f2c3fc92c2": {
          "model_module": "@jupyter-widgets/controls",
          "model_name": "DescriptionStyleModel",
          "model_module_version": "1.5.0",
          "state": {
            "_model_module": "@jupyter-widgets/controls",
            "_model_module_version": "1.5.0",
            "_model_name": "DescriptionStyleModel",
            "_view_count": null,
            "_view_module": "@jupyter-widgets/base",
            "_view_module_version": "1.2.0",
            "_view_name": "StyleView",
            "description_width": ""
          }
        }
      }
    }
  },
  "cells": [
    {
      "cell_type": "code",
      "source": [
        "from transformers import BertForSequenceClassification\n",
        "\n",
        "# Make sure this path is correct based on your training output\n",
        "model = BertForSequenceClassification.from_pretrained('bert-base-uncased')\n",
        "\n",
        "\n",
        "model.eval()\n"
      ],
      "metadata": {
        "colab": {
          "base_uri": "https://localhost:8080/",
          "height": 1000,
          "referenced_widgets": [
            "ea3a636df205462bbd0bf5da57e0ac08",
            "1f116b23e6494b7fa6986c1771d827a5",
            "cd7c1d3a5e91418a94b3fdfa0ea723ab",
            "fa4764ecd60d4a0da8fd330f3fcb53e5",
            "21c331588002428bbe5c5e08decd35d9",
            "52341b97a1f140b3ad9958292ef58fe5",
            "d4e4c455a56c40729c97b855a61ce205",
            "cb5f39767423438794b2181bb1250204",
            "e9564e149a5943f693beb684e852b727",
            "22eb31fe6c104bfdb17de228d5445926",
            "6ac75f11bbe54d3782e30139d9a6eebe",
            "3f2452b1436c4240bb73315aedd504e0",
            "b0ae2cacbe1040919c7af36730213bca",
            "184c5ac5eef542bea7b406ff1207d492",
            "6e1fcbbff9a741a784e192e455ac2e3d",
            "e412d86e58e84f028467abf613664a57",
            "a83cd1f85103450ea839f50e0271bb30",
            "68f9155ceba946a4905e80fa939fc369",
            "98ba2e2621444ac29e4199bf6a601e1e",
            "0e1fc180d9f04f5b8cf8644f76b5c7bd",
            "3f8341952479465c865ab3c8656fe53b",
            "8325e03301e4493c9ded17f2c3fc92c2"
          ]
        },
        "id": "b89M42BqMBie",
        "outputId": "623aef1a-27dc-4d7d-f9c5-12555e483c5e"
      },
      "execution_count": null,
      "outputs": [
        {
          "output_type": "stream",
          "name": "stderr",
          "text": [
            "/usr/local/lib/python3.11/dist-packages/huggingface_hub/utils/_auth.py:94: UserWarning: \n",
            "The secret `HF_TOKEN` does not exist in your Colab secrets.\n",
            "To authenticate with the Hugging Face Hub, create a token in your settings tab (https://huggingface.co/settings/tokens), set it as secret in your Google Colab and restart your session.\n",
            "You will be able to reuse this secret in all of your notebooks.\n",
            "Please note that authentication is recommended but still optional to access public models or datasets.\n",
            "  warnings.warn(\n"
          ]
        },
        {
          "output_type": "display_data",
          "data": {
            "text/plain": [
              "config.json:   0%|          | 0.00/570 [00:00<?, ?B/s]"
            ],
            "application/vnd.jupyter.widget-view+json": {
              "version_major": 2,
              "version_minor": 0,
              "model_id": "ea3a636df205462bbd0bf5da57e0ac08"
            }
          },
          "metadata": {}
        },
        {
          "output_type": "display_data",
          "data": {
            "text/plain": [
              "model.safetensors:   0%|          | 0.00/440M [00:00<?, ?B/s]"
            ],
            "application/vnd.jupyter.widget-view+json": {
              "version_major": 2,
              "version_minor": 0,
              "model_id": "3f2452b1436c4240bb73315aedd504e0"
            }
          },
          "metadata": {}
        },
        {
          "output_type": "stream",
          "name": "stderr",
          "text": [
            "Some weights of BertForSequenceClassification were not initialized from the model checkpoint at bert-base-uncased and are newly initialized: ['classifier.bias', 'classifier.weight']\n",
            "You should probably TRAIN this model on a down-stream task to be able to use it for predictions and inference.\n"
          ]
        },
        {
          "output_type": "execute_result",
          "data": {
            "text/plain": [
              "BertForSequenceClassification(\n",
              "  (bert): BertModel(\n",
              "    (embeddings): BertEmbeddings(\n",
              "      (word_embeddings): Embedding(30522, 768, padding_idx=0)\n",
              "      (position_embeddings): Embedding(512, 768)\n",
              "      (token_type_embeddings): Embedding(2, 768)\n",
              "      (LayerNorm): LayerNorm((768,), eps=1e-12, elementwise_affine=True)\n",
              "      (dropout): Dropout(p=0.1, inplace=False)\n",
              "    )\n",
              "    (encoder): BertEncoder(\n",
              "      (layer): ModuleList(\n",
              "        (0-11): 12 x BertLayer(\n",
              "          (attention): BertAttention(\n",
              "            (self): BertSdpaSelfAttention(\n",
              "              (query): Linear(in_features=768, out_features=768, bias=True)\n",
              "              (key): Linear(in_features=768, out_features=768, bias=True)\n",
              "              (value): Linear(in_features=768, out_features=768, bias=True)\n",
              "              (dropout): Dropout(p=0.1, inplace=False)\n",
              "            )\n",
              "            (output): BertSelfOutput(\n",
              "              (dense): Linear(in_features=768, out_features=768, bias=True)\n",
              "              (LayerNorm): LayerNorm((768,), eps=1e-12, elementwise_affine=True)\n",
              "              (dropout): Dropout(p=0.1, inplace=False)\n",
              "            )\n",
              "          )\n",
              "          (intermediate): BertIntermediate(\n",
              "            (dense): Linear(in_features=768, out_features=3072, bias=True)\n",
              "            (intermediate_act_fn): GELUActivation()\n",
              "          )\n",
              "          (output): BertOutput(\n",
              "            (dense): Linear(in_features=3072, out_features=768, bias=True)\n",
              "            (LayerNorm): LayerNorm((768,), eps=1e-12, elementwise_affine=True)\n",
              "            (dropout): Dropout(p=0.1, inplace=False)\n",
              "          )\n",
              "        )\n",
              "      )\n",
              "    )\n",
              "    (pooler): BertPooler(\n",
              "      (dense): Linear(in_features=768, out_features=768, bias=True)\n",
              "      (activation): Tanh()\n",
              "    )\n",
              "  )\n",
              "  (dropout): Dropout(p=0.1, inplace=False)\n",
              "  (classifier): Linear(in_features=768, out_features=2, bias=True)\n",
              ")"
            ]
          },
          "metadata": {},
          "execution_count": 5
        }
      ]
    },
    {
      "cell_type": "code",
      "source": [
        "def predict_tag(text):\n",
        "    model.eval()  # <--- ADD THIS\n",
        "    inputs = tokenizer(text, return_tensors=\"pt\", truncation=True, padding=True, max_length=128)\n",
        "    with torch.no_grad():\n",
        "        out = model(**inputs)\n",
        "        idx = torch.argmax(out.logits, dim=1).item()\n",
        "        return le.inverse_transform([idx])[0]\n"
      ],
      "metadata": {
        "id": "9lGdL-dX6BvG"
      },
      "execution_count": null,
      "outputs": []
    },
    {
      "cell_type": "code",
      "source": [
        "import torch  # <-- Add this\n",
        "\n",
        "device = torch.device(\"cuda\" if torch.cuda.is_available() else \"cpu\")\n",
        "model.to(device)\n",
        "\n",
        "def predict_tag(text):\n",
        "    model.eval()\n",
        "    inputs = tokenizer(text, return_tensors=\"pt\", truncation=True, padding=True, max_length=128)\n",
        "    inputs = {k: v.to(device) for k, v in inputs.items()}\n",
        "    with torch.no_grad():\n",
        "        out = model(**inputs)\n",
        "        idx = torch.argmax(out.logits, dim=1).item()\n",
        "        return le.inverse_transform([idx])[0]\n"
      ],
      "metadata": {
        "id": "StpajbVS6FoM"
      },
      "execution_count": null,
      "outputs": []
    },
    {
      "cell_type": "code",
      "source": [
        "from transformers import BertTokenizer\n",
        "\n",
        "tokenizer = BertTokenizer.from_pretrained(\"bert-base-uncased\")\n"
      ],
      "metadata": {
        "id": "uWkG7YKI6Iq5"
      },
      "execution_count": null,
      "outputs": []
    },
    {
      "cell_type": "code",
      "source": [
        "from sklearn.preprocessing import LabelEncoder\n",
        "import numpy as np\n",
        "\n",
        "# Replace these with your actual tags\n",
        "labels = ['network', 'software', 'hardware', 'vpn', 'email']\n",
        "\n",
        "le = LabelEncoder()\n",
        "le.classes_ = np.array(labels)\n"
      ],
      "metadata": {
        "id": "eyAhKNbdNeDQ"
      },
      "execution_count": null,
      "outputs": []
    },
    {
      "cell_type": "code",
      "source": [
        "model.save_pretrained(\"model/\")\n",
        "tokenizer.save_pretrained(\"model/\")\n"
      ],
      "metadata": {
        "colab": {
          "base_uri": "https://localhost:8080/"
        },
        "id": "OhpBmQmR6Ld6",
        "outputId": "448b8fff-41a3-486d-9aed-36ad9ebbd2bc"
      },
      "execution_count": null,
      "outputs": [
        {
          "output_type": "execute_result",
          "data": {
            "text/plain": [
              "('model/tokenizer_config.json',\n",
              " 'model/special_tokens_map.json',\n",
              " 'model/vocab.txt',\n",
              " 'model/added_tokens.json')"
            ]
          },
          "metadata": {},
          "execution_count": 22
        }
      ]
    },
    {
      "cell_type": "code",
      "source": [
        "model = BertForSequenceClassification.from_pretrained(\"model/\")\n",
        "tokenizer = BertTokenizer.from_pretrained(\"model/\")\n"
      ],
      "metadata": {
        "id": "dcIYrcIz6RME"
      },
      "execution_count": null,
      "outputs": []
    },
    {
      "cell_type": "code",
      "source": [
        "def predict_tag_verbose(text, top_k=3):\n",
        "    inputs = tokenizer(text, return_tensors=\"pt\", truncation=True, padding=True, max_length=128)\n",
        "    inputs = {k: v.to(device) for k, v in inputs.items()}\n",
        "\n",
        "    with torch.no_grad():\n",
        "        output = model(**inputs)\n",
        "        logits = output.logits\n",
        "        probs = torch.softmax(logits, dim=1)\n",
        "\n",
        "        num_classes = probs.shape[1]\n",
        "        top_k = min(top_k, num_classes)  # ✅ safe top_k\n",
        "\n",
        "        top_probs, top_idxs = torch.topk(probs, top_k, dim=1)\n",
        "\n",
        "        top_labels = le.inverse_transform(top_idxs[0].cpu().numpy())\n",
        "        top_probs = top_probs[0].cpu().numpy()\n",
        "\n",
        "        print(f\"\\n📨 Input: {text}\")\n",
        "        print(\"🔍 LLM Classification Output:\")\n",
        "        for i in range(top_k):\n",
        "            print(f\"  {i+1}. {top_labels[i]} — {top_probs[i]*100:.2f}%\")\n",
        "\n",
        "        return top_labels[0]\n"
      ],
      "metadata": {
        "id": "Gk3ZrfQO6adw"
      },
      "execution_count": null,
      "outputs": []
    },
    {
      "cell_type": "code",
      "source": [
        "def predict_tag_verbose(text, top_k=3):\n",
        "    inputs = tokenizer(text, return_tensors=\"pt\", truncation=True, padding=True, max_length=128)\n",
        "    inputs = {k: v.to(device) for k, v in inputs.items()}\n",
        "\n",
        "    with torch.no_grad():\n",
        "        output = model(**inputs)\n",
        "        logits = output.logits\n",
        "        probs = torch.softmax(logits, dim=1)\n",
        "\n",
        "        num_classes = probs.shape[1]\n",
        "        top_k = min(top_k, num_classes)\n",
        "\n",
        "        top_probs, top_idxs = torch.topk(probs, top_k, dim=1)\n",
        "\n",
        "        top_labels = le.inverse_transform(top_idxs[0].cpu().numpy())\n",
        "        top_probs = top_probs[0].cpu().numpy()\n",
        "\n",
        "        print(f\"\\n📨 Input: {text}\")\n",
        "        print(\"🔍 LLM Classification Output:\")\n",
        "        for i in range(top_k):\n",
        "            print(f\"  {i+1}. {top_labels[i]} — {top_probs[i]*100:.2f}%\")\n",
        "\n",
        "        return top_labels[0], top_labels, top_probs\n"
      ],
      "metadata": {
        "id": "6k9CWnI0OXeb"
      },
      "execution_count": null,
      "outputs": []
    },
    {
      "cell_type": "code",
      "source": [
        "# Get prediction and plotting data\n",
        "predicted_label, top_labels, top_probs = predict_tag_verbose(\"Can't connect to VPN after update\")\n",
        "\n",
        "# Plot\n",
        "plot_tag_probs(top_labels, top_probs)\n",
        "\n",
        "print(f\"\\n✅ Final Predicted Tag: {predicted_label}\")\n"
      ],
      "metadata": {
        "colab": {
          "base_uri": "https://localhost:8080/",
          "height": 435
        },
        "id": "QciTaZOUOgjE",
        "outputId": "e5fd3baa-081c-48cc-fc8a-12950b4c6a2a"
      },
      "execution_count": null,
      "outputs": [
        {
          "output_type": "stream",
          "name": "stdout",
          "text": [
            "\n",
            "📨 Input: Can't connect to VPN after update\n",
            "🔍 LLM Classification Output:\n",
            "  1. network — 62.81%\n",
            "  2. software — 37.19%\n"
          ]
        },
        {
          "output_type": "display_data",
          "data": {
            "text/plain": [
              "<Figure size 800x300 with 1 Axes>"
            ],
            "image/png": "[encoded data removed]"
          },
          "metadata": {}
        },
        {
          "output_type": "stream",
          "name": "stdout",
          "text": [
            "\n",
            "✅ Final Predicted Tag: network\n"
          ]
        }
      ]
    },
    {
      "cell_type": "code",
      "source": [
        "pip install matplotlib\n"
      ],
      "metadata": {
        "colab": {
          "base_uri": "https://localhost:8080/"
        },
        "id": "WYrPlPO76rJr",
        "outputId": "6a5a6aab-381f-4778-a1f3-93dcaadcd809"
      },
      "execution_count": null,
      "outputs": [
        {
          "output_type": "stream",
          "name": "stdout",
          "text": [
            "Requirement already satisfied: matplotlib in /usr/local/lib/python3.11/dist-packages (3.10.0)\n",
            "Requirement already satisfied: contourpy>=1.0.1 in /usr/local/lib/python3.11/dist-packages (from matplotlib) (1.3.2)\n",
            "Requirement already satisfied: cycler>=0.10 in /usr/local/lib/python3.11/dist-packages (from matplotlib) (0.12.1)\n",
            "Requirement already satisfied: fonttools>=4.22.0 in /usr/local/lib/python3.11/dist-packages (from matplotlib) (4.58.5)\n",
            "Requirement already satisfied: kiwisolver>=1.3.1 in /usr/local/lib/python3.11/dist-packages (from matplotlib) (1.4.8)\n",
            "Requirement already satisfied: numpy>=1.23 in /usr/local/lib/python3.11/dist-packages (from matplotlib) (2.0.2)\n",
            "Requirement already satisfied: packaging>=20.0 in /usr/local/lib/python3.11/dist-packages (from matplotlib) (25.0)\n",
            "Requirement already satisfied: pillow>=8 in /usr/local/lib/python3.11/dist-packages (from matplotlib) (11.2.1)\n",
            "Requirement already satisfied: pyparsing>=2.3.1 in /usr/local/lib/python3.11/dist-packages (from matplotlib) (3.2.3)\n",
            "Requirement already satisfied: python-dateutil>=2.7 in /usr/local/lib/python3.11/dist-packages (from matplotlib) (2.9.0.post0)\n",
            "Requirement already satisfied: six>=1.5 in /usr/local/lib/python3.11/dist-packages (from python-dateutil>=2.7->matplotlib) (1.17.0)\n"
          ]
        }
      ]
    },
    {
      "cell_type": "code",
      "source": [
        "import matplotlib.pyplot as plt\n",
        "import pandas as pd\n",
        "\n",
        "def predict_tag_verbose(text, top_k=5, plot=True):\n",
        "    model.eval()\n",
        "    inputs = tokenizer(text, return_tensors=\"pt\", truncation=True, padding=True, max_length=128)\n",
        "    inputs = {k: v.to(device) for k, v in inputs.items()}\n",
        "\n",
        "    with torch.no_grad():\n",
        "        output = model(**inputs)\n",
        "        logits = output.logits\n",
        "        probs = torch.softmax(logits, dim=1)\n",
        "\n",
        "        # Fix: Adjust top_k if model has fewer classes\n",
        "        num_classes = probs.shape[1]\n",
        "        top_k = min(top_k, num_classes)\n",
        "\n",
        "        top_probs, top_idxs = torch.topk(probs, top_k, dim=1)\n",
        "\n",
        "        top_labels = le.inverse_transform(top_idxs[0].cpu().numpy())\n",
        "        top_probs = top_probs[0].cpu().numpy()\n",
        "\n",
        "        # Prepare DataFrame for display\n",
        "        df_preds = pd.DataFrame({\n",
        "            \"Predicted Tag\": top_labels,\n",
        "            \"Confidence (%)\": (top_probs * 100).round(2)\n",
        "        })\n",
        "\n",
        "        print(\"\\n📨 Input Text:\", text)\n",
        "        print(\"🔍 Classification Results:\\n\", df_preds)\n",
        "\n",
        "        # Plot bar chart\n",
        "        if plot:\n",
        "            plt.figure(figsize=(8, 4))\n",
        "            plt.barh(df_preds[\"Predicted Tag\"], df_preds[\"Confidence (%)\"], color='skyblue')\n",
        "            plt.xlabel(\"Confidence (%)\")\n",
        "            plt.title(\"Top Predicted Tags\")\n",
        "            plt.gca().invert_yaxis()  # Highest on top\n",
        "            plt.tight_layout()\n",
        "            plt.show()\n",
        "\n",
        "        return top_labels[0], df_preds\n",
        "\n",
        "# ✅ Run with sample\n",
        "tag, table = predict_tag_verbose(\"Can't connect to VPN after update\")\n",
        "print(\"\\n✅ Final Predicted Tag:\", tag)\n"
      ],
      "metadata": {
        "colab": {
          "base_uri": "https://localhost:8080/",
          "height": 553
        },
        "id": "BoL_IFkk6vSJ",
        "outputId": "e16f7d00-ec3c-4d3b-f554-c2fc7c1d69b2"
      },
      "execution_count": null,
      "outputs": [
        {
          "output_type": "stream",
          "name": "stdout",
          "text": [
            "\n",
            "📨 Input Text: Can't connect to VPN after update\n",
            "🔍 Classification Results:\n",
            "   Predicted Tag  Confidence (%)\n",
            "0       network       62.810001\n",
            "1      software       37.189999\n"
          ]
        },
        {
          "output_type": "display_data",
          "data": {
            "text/plain": [
              "<Figure size 800x400 with 1 Axes>"
            ],
            "image/png": "[encoded data removed]"
          },
          "metadata": {}
        },
        {
          "output_type": "stream",
          "name": "stdout",
          "text": [
            "\n",
            "✅ Final Predicted Tag: network\n"
          ]
        }
      ]
    },
    {
      "cell_type": "code",
      "source": [
        "pip install rich\n"
      ],
      "metadata": {
        "colab": {
          "base_uri": "https://localhost:8080/"
        },
        "id": "nyRYiNrK8SmH",
        "outputId": "44356d82-2846-4733-cb6d-a8c9129f3952"
      },
      "execution_count": null,
      "outputs": [
        {
          "output_type": "stream",
          "name": "stdout",
          "text": [
            "Requirement already satisfied: rich in /usr/local/lib/python3.11/dist-packages (13.9.4)\n",
            "Requirement already satisfied: markdown-it-py>=2.2.0 in /usr/local/lib/python3.11/dist-packages (from rich) (3.0.0)\n",
            "Requirement already satisfied: pygments<3.0.0,>=2.13.0 in /usr/local/lib/python3.11/dist-packages (from rich) (2.19.2)\n",
            "Requirement already satisfied: mdurl~=0.1 in /usr/local/lib/python3.11/dist-packages (from markdown-it-py>=2.2.0->rich) (0.1.2)\n"
          ]
        }
      ]
    },
    {
      "cell_type": "code",
      "source": [
        "import torch\n",
        "import pandas as pd\n",
        "\n",
        "def predict_verbose(text, top_k=5):\n",
        "    inputs = tokenizer(text, return_tensors=\"pt\", truncation=True, padding=True, max_length=128)\n",
        "    inputs = {k: v.to(device) for k, v in inputs.items()}\n",
        "    with torch.no_grad():\n",
        "        out = model(**inputs)\n",
        "        probs = torch.softmax(out.logits, dim=1)\n",
        "        top_probs, top_idxs = torch.topk(probs, top_k, dim=1)\n",
        "        top_labels = le.inverse_transform(top_idxs[0].cpu().numpy())\n",
        "        top_probs = top_probs[0].cpu().numpy()\n",
        "        df = pd.DataFrame({\"Tag\": top_labels, \"Confidence (%)\": (top_probs * 100).round(2)})\n",
        "        return top_labels[0], df\n"
      ],
      "metadata": {
        "id": "Dx5BjWS48qrH"
      },
      "execution_count": null,
      "outputs": []
    },
    {
      "cell_type": "code",
      "source": [
        "from rich import print\n",
        "from rich.panel import Panel\n",
        "from rich.table import Table\n",
        "import pandas as pd\n",
        "\n",
        "# Dummy prediction data for demonstration\n",
        "predicted_tag = \"VPN Issue\"\n",
        "df_preds = pd.DataFrame({\n",
        "    \"Tag\": [\"VPN Issue\", \"Network Problem\", \"Authentication Error\", \"Software Issue\", \"DNS Error\"],\n",
        "    \"Confidence (%)\": [75.32, 12.45, 5.11, 4.09, 3.03]\n",
        "})\n",
        "\n",
        "# Function to print colored output\n",
        "def print_rich_output(tag, df):\n",
        "    print(Panel(f\"[bold white on green]✅ Predicted Tag: {tag}[/]\", title=\"🏷️ Result\"))\n",
        "\n",
        "    table = Table(title=\"Top Predictions\", show_edge=True, header_style=\"bold yellow\")\n",
        "    table.add_column(\"Tag\", justify=\"left\", style=\"cyan\")\n",
        "    table.add_column(\"Confidence (%)\", justify=\"right\", style=\"magenta\")\n",
        "\n",
        "    for _, row in df.iterrows():\n",
        "        table.add_row(row[\"Tag\"], str(row[\"Confidence (%)\"]))\n",
        "\n",
        "    print(table)\n",
        "\n",
        "# Run it\n",
        "print_rich_output(predicted_tag, df_preds)\n"
      ],
      "metadata": {
        "colab": {
          "base_uri": "https://localhost:8080/",
          "height": 230
        },
        "id": "PGwCSoHL9Dvf",
        "outputId": "be4ffe3c-03c1-4ff1-d297-c86e256e906a"
      },
      "execution_count": null,
      "outputs": [
        {
          "output_type": "display_data",
          "data": {
            "text/plain": [
              "╭─────────────────────────────────────────────────── 🏷️ Result ────────────────────────────────────────────────────╮\n",
              "│ \u001b[1;37;42m✅ Predicted Tag: VPN Issue\u001b[0m                                                                                     │\n",
              "╰─────────────────────────────────────────────────────────────────────────────────────────────────────────────────╯\n"
            ],
            "text/html": [
              "<pre style=\"white-space:pre;overflow-x:auto;line-height:normal;font-family:Menlo,'DejaVu Sans Mono',consolas,'Courier New',monospace\">╭─────────────────────────────────────────────────── 🏷️ Result ────────────────────────────────────────────────────╮\n",
              "│ <span style=\"color: #c0c0c0; text-decoration-color: #c0c0c0; background-color: #008000; font-weight: bold\">✅ Predicted Tag: VPN Issue</span>                                                                                     │\n",
              "╰─────────────────────────────────────────────────────────────────────────────────────────────────────────────────╯\n",
              "</pre>\n"
            ]
          },
          "metadata": {}
        },
        {
          "output_type": "display_data",
          "data": {
            "text/plain": [
              "\u001b[3m             Top Predictions             \u001b[0m\n",
              "┏━━━━━━━━━━━━━━━━━━━━━━┳━━━━━━━━━━━━━━━━┓\n",
              "┃\u001b[1;33m \u001b[0m\u001b[1;33mTag                 \u001b[0m\u001b[1;33m \u001b[0m┃\u001b[1;33m \u001b[0m\u001b[1;33mConfidence (%)\u001b[0m\u001b[1;33m \u001b[0m┃\n",
              "┡━━━━━━━━━━━━━━━━━━━━━━╇━━━━━━━━━━━━━━━━┩\n",
              "│\u001b[36m \u001b[0m\u001b[36mVPN Issue           \u001b[0m\u001b[36m \u001b[0m│\u001b[35m \u001b[0m\u001b[35m         75.32\u001b[0m\u001b[35m \u001b[0m│\n",
              "│\u001b[36m \u001b[0m\u001b[36mNetwork Problem     \u001b[0m\u001b[36m \u001b[0m│\u001b[35m \u001b[0m\u001b[35m         12.45\u001b[0m\u001b[35m \u001b[0m│\n",
              "│\u001b[36m \u001b[0m\u001b[36mAuthentication Error\u001b[0m\u001b[36m \u001b[0m│\u001b[35m \u001b[0m\u001b[35m          5.11\u001b[0m\u001b[35m \u001b[0m│\n",
              "│\u001b[36m \u001b[0m\u001b[36mSoftware Issue      \u001b[0m\u001b[36m \u001b[0m│\u001b[35m \u001b[0m\u001b[35m          4.09\u001b[0m\u001b[35m \u001b[0m│\n",
              "│\u001b[36m \u001b[0m\u001b[36mDNS Error           \u001b[0m\u001b[36m \u001b[0m│\u001b[35m \u001b[0m\u001b[35m          3.03\u001b[0m\u001b[35m \u001b[0m│\n",
              "└──────────────────────┴────────────────┘\n"
            ],
            "text/html": [
              "<pre style=\"white-space:pre;overflow-x:auto;line-height:normal;font-family:Menlo,'DejaVu Sans Mono',consolas,'Courier New',monospace\"><span style=\"font-style: italic\">             Top Predictions             </span>\n",
              "┏━━━━━━━━━━━━━━━━━━━━━━┳━━━━━━━━━━━━━━━━┓\n",
              "┃<span style=\"color: #808000; text-decoration-color: #808000; font-weight: bold\"> Tag                  </span>┃<span style=\"color: #808000; text-decoration-color: #808000; font-weight: bold\"> Confidence (%) </span>┃\n",
              "┡━━━━━━━━━━━━━━━━━━━━━━╇━━━━━━━━━━━━━━━━┩\n",
              "│<span style=\"color: #008080; text-decoration-color: #008080\"> VPN Issue            </span>│<span style=\"color: #800080; text-decoration-color: #800080\">          75.32 </span>│\n",
              "│<span style=\"color: #008080; text-decoration-color: #008080\"> Network Problem      </span>│<span style=\"color: #800080; text-decoration-color: #800080\">          12.45 </span>│\n",
              "│<span style=\"color: #008080; text-decoration-color: #008080\"> Authentication Error </span>│<span style=\"color: #800080; text-decoration-color: #800080\">           5.11 </span>│\n",
              "│<span style=\"color: #008080; text-decoration-color: #008080\"> Software Issue       </span>│<span style=\"color: #800080; text-decoration-color: #800080\">           4.09 </span>│\n",
              "│<span style=\"color: #008080; text-decoration-color: #008080\"> DNS Error            </span>│<span style=\"color: #800080; text-decoration-color: #800080\">           3.03 </span>│\n",
              "└──────────────────────┴────────────────┘\n",
              "</pre>\n"
            ]
          },
          "metadata": {}
        }
      ]
    },
    {
      "cell_type": "code",
      "source": [
        "from rich import print\n",
        "from rich.panel import Panel\n",
        "from rich.table import Table\n",
        "import pandas as pd\n",
        "import matplotlib.pyplot as plt\n",
        "\n",
        "# Dummy prediction data\n",
        "predicted_tag = \"VPN Issue\"\n",
        "df_preds = pd.DataFrame({\n",
        "    \"Tag\": [\"VPN Issue\", \"Network Problem\", \"Authentication Error\", \"Software Issue\", \"DNS Error\"],\n",
        "    \"Confidence (%)\": [75.32, 12.45, 5.11, 4.09, 3.03]\n",
        "})\n",
        "\n",
        "# Print rich output (panel + table)\n",
        "def print_rich_output(tag, df):\n",
        "    print(Panel(f\"[bold white on green]✅ Predicted Tag: {tag}[/]\", title=\"🏷️ Result\"))\n",
        "\n",
        "    table = Table(title=\"Top Predictions\", show_edge=True, header_style=\"bold yellow\")\n",
        "    table.add_column(\"Tag\", justify=\"left\", style=\"cyan\")\n",
        "    table.add_column(\"Confidence (%)\", justify=\"right\", style=\"magenta\")\n",
        "\n",
        "    for _, row in df.iterrows():\n",
        "        table.add_row(row[\"Tag\"], str(row[\"Confidence (%)\"]))\n",
        "\n",
        "    print(table)\n",
        "\n",
        "# Plot confidence bar graph\n",
        "def plot_confidence_bar(df):\n",
        "    colors = ['#4CAF50' if tag == predicted_tag else '#2196F3' for tag in df[\"Tag\"]]\n",
        "    plt.figure(figsize=(8, 4))\n",
        "    plt.barh(df[\"Tag\"], df[\"Confidence (%)\"], color=colors)\n",
        "    plt.xlabel(\"Confidence (%)\")\n",
        "    plt.title(\"Model Confidence per Tag\")\n",
        "    plt.gca().invert_yaxis()\n",
        "    plt.tight_layout()\n",
        "    plt.show()\n",
        "\n",
        "# Call both\n",
        "print_rich_output(predicted_tag, df_preds)\n",
        "plot_confidence_bar(df_preds)\n"
      ],
      "metadata": {
        "colab": {
          "base_uri": "https://localhost:8080/",
          "height": 620
        },
        "id": "dEHH_FG_9Lip",
        "outputId": "26a64c0d-f6e7-4e29-e6e0-bb430250766c"
      },
      "execution_count": null,
      "outputs": [
        {
          "output_type": "display_data",
          "data": {
            "text/plain": [
              "╭─────────────────────────────────────────────────── 🏷️ Result ────────────────────────────────────────────────────╮\n",
              "│ \u001b[1;37;42m✅ Predicted Tag: VPN Issue\u001b[0m                                                                                     │\n",
              "╰─────────────────────────────────────────────────────────────────────────────────────────────────────────────────╯\n"
            ],
            "text/html": [
              "<pre style=\"white-space:pre;overflow-x:auto;line-height:normal;font-family:Menlo,'DejaVu Sans Mono',consolas,'Courier New',monospace\">╭─────────────────────────────────────────────────── 🏷️ Result ────────────────────────────────────────────────────╮\n",
              "│ <span style=\"color: #c0c0c0; text-decoration-color: #c0c0c0; background-color: #008000; font-weight: bold\">✅ Predicted Tag: VPN Issue</span>                                                                                     │\n",
              "╰─────────────────────────────────────────────────────────────────────────────────────────────────────────────────╯\n",
              "</pre>\n"
            ]
          },
          "metadata": {}
        },
        {
          "output_type": "display_data",
          "data": {
            "text/plain": [
              "\u001b[3m             Top Predictions             \u001b[0m\n",
              "┏━━━━━━━━━━━━━━━━━━━━━━┳━━━━━━━━━━━━━━━━┓\n",
              "┃\u001b[1;33m \u001b[0m\u001b[1;33mTag                 \u001b[0m\u001b[1;33m \u001b[0m┃\u001b[1;33m \u001b[0m\u001b[1;33mConfidence (%)\u001b[0m\u001b[1;33m \u001b[0m┃\n",
              "┡━━━━━━━━━━━━━━━━━━━━━━╇━━━━━━━━━━━━━━━━┩\n",
              "│\u001b[36m \u001b[0m\u001b[36mVPN Issue           \u001b[0m\u001b[36m \u001b[0m│\u001b[35m \u001b[0m\u001b[35m         75.32\u001b[0m\u001b[35m \u001b[0m│\n",
              "│\u001b[36m \u001b[0m\u001b[36mNetwork Problem     \u001b[0m\u001b[36m \u001b[0m│\u001b[35m \u001b[0m\u001b[35m         12.45\u001b[0m\u001b[35m \u001b[0m│\n",
              "│\u001b[36m \u001b[0m\u001b[36mAuthentication Error\u001b[0m\u001b[36m \u001b[0m│\u001b[35m \u001b[0m\u001b[35m          5.11\u001b[0m\u001b[35m \u001b[0m│\n",
              "│\u001b[36m \u001b[0m\u001b[36mSoftware Issue      \u001b[0m\u001b[36m \u001b[0m│\u001b[35m \u001b[0m\u001b[35m          4.09\u001b[0m\u001b[35m \u001b[0m│\n",
              "│\u001b[36m \u001b[0m\u001b[36mDNS Error           \u001b[0m\u001b[36m \u001b[0m│\u001b[35m \u001b[0m\u001b[35m          3.03\u001b[0m\u001b[35m \u001b[0m│\n",
              "└──────────────────────┴────────────────┘\n"
            ],
            "text/html": [
              "<pre style=\"white-space:pre;overflow-x:auto;line-height:normal;font-family:Menlo,'DejaVu Sans Mono',consolas,'Courier New',monospace\"><span style=\"font-style: italic\">             Top Predictions             </span>\n",
              "┏━━━━━━━━━━━━━━━━━━━━━━┳━━━━━━━━━━━━━━━━┓\n",
              "┃<span style=\"color: #808000; text-decoration-color: #808000; font-weight: bold\"> Tag                  </span>┃<span style=\"color: #808000; text-decoration-color: #808000; font-weight: bold\"> Confidence (%) </span>┃\n",
              "┡━━━━━━━━━━━━━━━━━━━━━━╇━━━━━━━━━━━━━━━━┩\n",
              "│<span style=\"color: #008080; text-decoration-color: #008080\"> VPN Issue            </span>│<span style=\"color: #800080; text-decoration-color: #800080\">          75.32 </span>│\n",
              "│<span style=\"color: #008080; text-decoration-color: #008080\"> Network Problem      </span>│<span style=\"color: #800080; text-decoration-color: #800080\">          12.45 </span>│\n",
              "│<span style=\"color: #008080; text-decoration-color: #008080\"> Authentication Error </span>│<span style=\"color: #800080; text-decoration-color: #800080\">           5.11 </span>│\n",
              "│<span style=\"color: #008080; text-decoration-color: #008080\"> Software Issue       </span>│<span style=\"color: #800080; text-decoration-color: #800080\">           4.09 </span>│\n",
              "│<span style=\"color: #008080; text-decoration-color: #008080\"> DNS Error            </span>│<span style=\"color: #800080; text-decoration-color: #800080\">           3.03 </span>│\n",
              "└──────────────────────┴────────────────┘\n",
              "</pre>\n"
            ]
          },
          "metadata": {}
        },
        {
          "output_type": "display_data",
          "data": {
            "text/plain": [
              "<Figure size 800x400 with 1 Axes>"
            ],
            "image/png": "[encoded data removed]"
          },
          "metadata": {}
        }
      ]
    }
  ]
}